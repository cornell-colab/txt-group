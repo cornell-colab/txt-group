{
 "cells": [
  {
   "cell_type": "markdown",
   "metadata": {},
   "source": [
    "# Week 3: Getting creative with text (the Accumulator Pattern)"
   ]
  },
  {
   "cell_type": "markdown",
   "metadata": {},
   "source": [
    "Last week, we introduced techniques like if/then statements, for loops, and slicing to manipulate and interact with text.\n"
   ]
  },
  {
   "cell_type": "markdown",
   "metadata": {},
   "source": [
    "This week, we're going to take that further and focus on using looping or iteration to answer a variety of questions. We will introduce something called the **accumulator pattern** which allows us to keep track of specific data as we explore a text or collection of textx. We'll also introduce the concept of a stop word list."
   ]
  },
  {
   "cell_type": "markdown",
   "metadata": {},
   "source": [
    "## Review: working with strings"
   ]
  },
  {
   "cell_type": "markdown",
   "metadata": {},
   "source": [
    "**Strings** are a type of variable we use often with Python. A string is essentially an ordered list of characters - typically letters, numbers, and punctuation. "
   ]
  },
  {
   "cell_type": "code",
   "execution_count": 2,
   "metadata": {},
   "outputs": [],
   "source": [
    "our_string = \"Here is an example of a string\""
   ]
  },
  {
   "cell_type": "markdown",
   "metadata": {},
   "source": [
    "We can print out strings, which is a convenient way to test whether they contain the value we expect them to contain."
   ]
  },
  {
   "cell_type": "code",
   "execution_count": 4,
   "metadata": {},
   "outputs": [
    {
     "name": "stdout",
     "output_type": "stream",
     "text": [
      "Here is an example of a string\n"
     ]
    }
   ],
   "source": [
    "print(our_string)"
   ]
  },
  {
   "cell_type": "markdown",
   "metadata": {},
   "source": [
    "Strings are also interchangeable with another type of variable called a **list**. A list is a collection of items. For instance, here's a list of disciplines:"
   ]
  },
  {
   "cell_type": "code",
   "execution_count": 5,
   "metadata": {},
   "outputs": [],
   "source": [
    "disciplines = ['anthropology', 'history', 'microbiology', 'science and technology studies']"
   ]
  },
  {
   "cell_type": "markdown",
   "metadata": {},
   "source": [
    "When working with lists, you often want to focus on just one item, or a subset of the list. To focus on an individual item, you can indicate the index of the list you wish to focus on using list[index] format.\n",
    "\n",
    "To practice, print out the 0th element in the disciplines list:"
   ]
  },
  {
   "cell_type": "code",
   "execution_count": 6,
   "metadata": {},
   "outputs": [],
   "source": [
    "# replace with the expression to print out the element from the disciplines list located at index 0"
   ]
  },
  {
   "cell_type": "markdown",
   "metadata": {},
   "source": [
    "We can do the same thing with strings. Can you remember how to indicate the index of the last item in a list? (Hint, it involves a negative number...) Let's print the final character of our_string above:"
   ]
  },
  {
   "cell_type": "code",
   "execution_count": 7,
   "metadata": {},
   "outputs": [],
   "source": [
    "# replace with the expression to print out the final character from the our_string string"
   ]
  },
  {
   "cell_type": "markdown",
   "metadata": {},
   "source": [
    "What about printing the first four characters of the our_string string? To do this, we can use **slice notation**. You can write a slice using list[starting_index_inclusive:ending_index_excluisive]"
   ]
  },
  {
   "cell_type": "code",
   "execution_count": 8,
   "metadata": {},
   "outputs": [
    {
     "name": "stdout",
     "output_type": "stream",
     "text": [
      "['anthropology', 'history']\n"
     ]
    }
   ],
   "source": [
    "print(disciplines[0:2])"
   ]
  },
  {
   "cell_type": "markdown",
   "metadata": {},
   "source": [
    "Write a statement to print the first four characters of the our_string (remember, strings behave like lists of characters)"
   ]
  },
  {
   "cell_type": "code",
   "execution_count": 9,
   "metadata": {},
   "outputs": [],
   "source": [
    "# replace with the expression to print out the first four characters in our_string"
   ]
  },
  {
   "cell_type": "markdown",
   "metadata": {},
   "source": [
    "We can also add a substring into a string using the **.format()** string method. This is convenient especially in print statements. For instance:"
   ]
  },
  {
   "cell_type": "code",
   "execution_count": 11,
   "metadata": {},
   "outputs": [
    {
     "name": "stdout",
     "output_type": "stream",
     "text": [
      "My undergraduate major was anthropology... but sometimes I wish I had majored in science and technology studies! Oh well!\n"
     ]
    }
   ],
   "source": [
    "print(\"My undergraduate major was {}... but sometimes I wish I had majored in {}! Oh well!\".format(disciplines[0], disciplines[-1]))"
   ]
  },
  {
   "cell_type": "markdown",
   "metadata": {},
   "source": [
    "The .format() method takes as many parameters as you have {} in the string, which is a convenient system!"
   ]
  },
  {
   "cell_type": "markdown",
   "metadata": {},
   "source": [
    "## Iterating over lists and strings"
   ]
  },
  {
   "cell_type": "markdown",
   "metadata": {},
   "source": [
    "We often will want to loop over a list or a string, check for a certain condition, and take action if that condition is met. Consider the code snippet below:"
   ]
  },
  {
   "cell_type": "code",
   "execution_count": 13,
   "metadata": {},
   "outputs": [
    {
     "name": "stdout",
     "output_type": "stream",
     "text": [
      "anthropology is an -ology discipline\n",
      "No -ology in history\n",
      "microbiology is an -ology discipline\n",
      "science and technology studies is an -ology discipline\n"
     ]
    }
   ],
   "source": [
    "for discipline in disciplines:\n",
    "    if 'ology' in discipline:\n",
    "        print('{} is an -ology discipline'.format(discipline))\n",
    "    else:\n",
    "        print('No -ology in {}'.format(discipline))"
   ]
  },
  {
   "cell_type": "markdown",
   "metadata": {},
   "source": [
    "What's going on here? [Discuss]"
   ]
  },
  {
   "cell_type": "markdown",
   "metadata": {},
   "source": [
    "Now what happens if we want to add more disciplines to the disciplines list? We can use the snazzy **.append() method.** For instance:"
   ]
  },
  {
   "cell_type": "code",
   "execution_count": 14,
   "metadata": {},
   "outputs": [],
   "source": [
    "disciplines.append('religious studies')\n",
    "disciplines.append('zoology')\n",
    "disciplines.append('astronomy')"
   ]
  },
  {
   "cell_type": "markdown",
   "metadata": {},
   "source": [
    "Now try running the \"for discipline in disciplines\" cell again."
   ]
  },
  {
   "cell_type": "markdown",
   "metadata": {},
   "source": [
    "We can also solve this problem by using what's called the **accumulator pattern**. In this pattern, we also loop over a list and check for a condition, but we store any matching values as we go into a list. Here's an example of this same script using the accumulator pattern:"
   ]
  },
  {
   "cell_type": "code",
   "execution_count": 17,
   "metadata": {},
   "outputs": [
    {
     "name": "stdout",
     "output_type": "stream",
     "text": [
      "Here are the -ology disciplines:\n",
      "['anthropology', 'microbiology', 'science and technology studies', 'zoology']\n",
      "And here are the studies disciplines:\n",
      "['religious studies']\n"
     ]
    }
   ],
   "source": [
    "ology_disciplines = []\n",
    "studies_disciplines = []\n",
    "\n",
    "for discipline in disciplines:\n",
    "    if 'ology' in discipline:\n",
    "        ology_disciplines.append(discipline)\n",
    "    elif 'studies' in discipline:\n",
    "        studies_disciplines.append(discipline)\n",
    "    else:\n",
    "        pass\n",
    "\n",
    "print(\"Here are the -ology disciplines:\")\n",
    "print(ology_disciplines)\n",
    "print(\"And here are the studies disciplines:\")\n",
    "print(studies_disciplines)"
   ]
  },
  {
   "cell_type": "markdown",
   "metadata": {},
   "source": [
    "Take a look at the output here. What do you notice? Is there any strange behavior jumping out at you? [Discuss]"
   ]
  },
  {
   "cell_type": "markdown",
   "metadata": {},
   "source": [
    "Let's take a new example. Here is an abstract of a recent popular article in Frontiers in Digital Humanities:"
   ]
  },
  {
   "cell_type": "markdown",
   "metadata": {},
   "source": [
    "## A map for big data research in digital humanities\n",
    "### Frédéric Kaplan\n",
    "\n",
    "This article is an attempt to represent Big Data research in digital humanities as a structured research field. A division in three concentric areas of study is presented. Challenges in the first circle – focusing on the processing and interpretations of large cultural datasets – can be organized linearly following the data processing pipeline. Challenges in the second circle – concerning digital culture at large – can be structured around the different relations linking massive datasets, large communities, collective discourses, global actors, and the software medium. Challenges in the third circle – dealing with the experience of big data – can be described within a continuous space of possible interfaces organized around three poles: immersion, abstraction, and language. By identifying research challenges in all these domains, the article illustrates how this initial cartography could be helpful to organize the exploration of the various dimensions of Big Data Digital Humanities research."
   ]
  },
  {
   "cell_type": "markdown",
   "metadata": {},
   "source": [
    "Let's analyze the text of the abstract. To do this, we'll need to use a couple of additional tools. \n",
    "\n",
    "### #1\n",
    "First, we can create a punctuation_remover with the string library, and apply it to our string using the .translate() method."
   ]
  },
  {
   "cell_type": "code",
   "execution_count": 20,
   "metadata": {},
   "outputs": [],
   "source": [
    "import string\n",
    "# s.translate(None, string.punctuation)\n",
    "punctuation_remover = str.maketrans('', '', string.punctuation)"
   ]
  },
  {
   "cell_type": "code",
   "execution_count": 22,
   "metadata": {},
   "outputs": [
    {
     "name": "stdout",
     "output_type": "stream",
     "text": [
      "Here's a string!!! with a bunch? of? punctuation!?!?\n",
      "Heres a string with a bunch of punctuation\n"
     ]
    }
   ],
   "source": [
    "test_string = \"Here's a string!!! with a bunch? of? punctuation!?!?\"\n",
    "print(test_string)\n",
    "test_string = test_string.translate(punctuation_remover)\n",
    "print(test_string)"
   ]
  },
  {
   "cell_type": "markdown",
   "metadata": {},
   "source": [
    "### #2\n",
    "\n",
    "Second, we might want to split a very long string into separate words. The **.split()** method is great for this purpose. Here's an example:"
   ]
  },
  {
   "cell_type": "code",
   "execution_count": 23,
   "metadata": {},
   "outputs": [],
   "source": [
    "long_sentence = \"Here is a long sentence full of words we'd like to split up\""
   ]
  },
  {
   "cell_type": "code",
   "execution_count": 24,
   "metadata": {},
   "outputs": [],
   "source": [
    "split_sentence = long_sentence.split()"
   ]
  },
  {
   "cell_type": "code",
   "execution_count": 25,
   "metadata": {},
   "outputs": [
    {
     "name": "stdout",
     "output_type": "stream",
     "text": [
      "['Here', 'is', 'a', 'long', 'sentence', 'full', 'of', 'words', \"we'd\", 'like', 'to', 'split', 'up']\n"
     ]
    }
   ],
   "source": [
    "print(split_sentence)"
   ]
  },
  {
   "cell_type": "markdown",
   "metadata": {},
   "source": [
    "### #3\n",
    "\n",
    "Third, we might want to treat a given word as lowercase. To do this, we can call **.lower()** on our word. Here's an example:"
   ]
  },
  {
   "cell_type": "code",
   "execution_count": 26,
   "metadata": {},
   "outputs": [
    {
     "name": "stdout",
     "output_type": "stream",
     "text": [
      "capitalized\n"
     ]
    }
   ],
   "source": [
    "word = \"Capitalized\"\n",
    "word_l = word.lower()\n",
    "print(word_l)"
   ]
  },
  {
   "cell_type": "markdown",
   "metadata": {},
   "source": [
    "Now, let's try to combine these techniques together in the accumulator pattern recipe below:"
   ]
  },
  {
   "cell_type": "code",
   "execution_count": 28,
   "metadata": {},
   "outputs": [
    {
     "ename": "SyntaxError",
     "evalue": "invalid syntax (<ipython-input-28-c5b51d847c5e>, line 1)",
     "output_type": "error",
     "traceback": [
      "\u001b[0;36m  File \u001b[0;32m\"<ipython-input-28-c5b51d847c5e>\"\u001b[0;36m, line \u001b[0;32m1\u001b[0m\n\u001b[0;31m    abstract_as_string = #fill in abstract here\u001b[0m\n\u001b[0m                                               ^\u001b[0m\n\u001b[0;31mSyntaxError\u001b[0m\u001b[0;31m:\u001b[0m invalid syntax\n"
     ]
    }
   ],
   "source": [
    "abstract_as_string = #fill in abstract here\n",
    "# note, to prevent your string from getting chopped off by quotation marks within the abstract, you can use the notation\n",
    "# for a long excerpt, which is three single quotation marks surrounded text. E.g.: '''text'''\n",
    "\n",
    "instances_of_data = []\n",
    "\n",
    "abstract_without punctuation = # write expression to remove punctuation from abstract\n",
    "abstract_as_words = # write expression to split the abstract-sans-punctuation into a list of words\n",
    "\n",
    "for word in # fill in with appropriate list :\n",
    "    word_lower = # make this current word lowercase\n",
    "    if 'data' in word_lower:\n",
    "        # append this word_lower to our list of accumulated values\n"
   ]
  },
  {
   "cell_type": "code",
   "execution_count": 29,
   "metadata": {},
   "outputs": [
    {
     "ename": "NameError",
     "evalue": "name 'instances_of_data' is not defined",
     "output_type": "error",
     "traceback": [
      "\u001b[0;31m---------------------------------------------------------------------------\u001b[0m",
      "\u001b[0;31mNameError\u001b[0m                                 Traceback (most recent call last)",
      "\u001b[0;32m<ipython-input-29-c577df7e60be>\u001b[0m in \u001b[0;36m<module>\u001b[0;34m()\u001b[0m\n\u001b[0;32m----> 1\u001b[0;31m \u001b[0mprint\u001b[0m\u001b[0;34m(\u001b[0m\u001b[0minstances_of_data\u001b[0m\u001b[0;34m)\u001b[0m\u001b[0;34m\u001b[0m\u001b[0m\n\u001b[0m",
      "\u001b[0;31mNameError\u001b[0m: name 'instances_of_data' is not defined"
     ]
    }
   ],
   "source": [
    "print(instances_of_data)"
   ]
  },
  {
   "cell_type": "code",
   "execution_count": 30,
   "metadata": {},
   "outputs": [],
   "source": [
    "## Challenge"
   ]
  },
  {
   "cell_type": "markdown",
   "metadata": {},
   "source": [
    "You've implemented an accumulator pattern to analyze text! Now, let's spend some time taking this same pattern and applying it to a new problem. 1. Pick any article that catches your interest from [this list](https://www.frontiersin.org/journals/digital-humanities/sections/digital-history#articles)"
   ]
  },
  {
   "cell_type": "markdown",
   "metadata": {},
   "source": [
    "2. Instead of focusing just on the abstract, grab the entire article and put it into a variable (Jupyter can handle this just fine!)"
   ]
  },
  {
   "cell_type": "markdown",
   "metadata": {},
   "source": [
    "3. Decide ahead of time - are there any specific words, prefixes, suffixes, etc. you are curious about counting? Note that if you want to check for an exact match instead of a substring, you can use the syntax if word == data instead of if \"data in word. Try to accumulate two lists with different queries, and remember to think about how you formulate your if/elif/else statements!"
   ]
  },
  {
   "cell_type": "markdown",
   "metadata": {},
   "source": [
    "4. Write your script below and print out your results."
   ]
  },
  {
   "cell_type": "code",
   "execution_count": null,
   "metadata": {},
   "outputs": [],
   "source": []
  }
 ],
 "metadata": {
  "kernelspec": {
   "display_name": "Python 3",
   "language": "python",
   "name": "python3"
  },
  "language_info": {
   "codemirror_mode": {
    "name": "ipython",
    "version": 3
   },
   "file_extension": ".py",
   "mimetype": "text/x-python",
   "name": "python",
   "nbconvert_exporter": "python",
   "pygments_lexer": "ipython3",
   "version": "3.6.6"
  }
 },
 "nbformat": 4,
 "nbformat_minor": 2
}
