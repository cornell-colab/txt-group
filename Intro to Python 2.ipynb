{
  "cells": [
    {
      "metadata": {},
      "cell_type": "markdown",
      "source": "# Intro to Python 2"
    },
    {
      "metadata": {
        "trusted": true
      },
      "cell_type": "code",
      "source": "#my favorite coffee shop#\ntoaster_pastries = [(\"strawberry\", 2.50), (\"blueberry\", 2.23), (\"cherry\", 2.97), (\"campfire smore\", 1.98), (\"oreo supreme\", 4.22), (\"ice cream sundae\", 2.49)]\ncoffee = [(\"small\", 1.39), (\"medium\", 1.59), (\"large\", 1.79)]\n\n#my state's sales tax#\ntax = .045",
      "execution_count": null,
      "outputs": []
    },
    {
      "metadata": {},
      "cell_type": "markdown",
      "source": "## Answering Questions with Programming \n\nImagine you want to quickly find out which combination of toaster pastries and coffee is the most economical if you are allergic to fruit. While some quick mental math will tell us that the \"smore\" flavor and a small coffee is the right option, creating code that will lead us to the same answer will give us a good starting point in case the data ever becomes complex. In this tutorial, we will create **loops** that use conditionals, define **functions** that will perform a series of tasks, and create **dictionaries** and **tuples** to help order complex data."
    },
    {
      "metadata": {
        "trusted": true
      },
      "cell_type": "markdown",
      "source": "## Loops\n\nReturning to the problem of which fruit flavor and coffee combination is the most economical, let's consider the steps we need to solve this problem.\n1.) We need to **distinguish** \"fruit-flavored\" varities of toaster pastries from non-fruit-flavored ones.\n2.) We need to **find** the lowest price among the remaining toaster pastries.\n3.) We need to **add** that price to the lowest-priced coffee\n4.) We need to **multiply** that sum by the state tax and return the result.\nIf we look at the actions bolded above, it becomes clear that our last two actions are arithmetic, meaning that they're relatively easy to code. While starting in reverse-order is not always advisable, it is good to have a clear idea of where your code will end."
    },
    {
      "metadata": {
        "trusted": true
      },
      "cell_type": "code",
      "source": "total = nf_toster_pastry + lp_coffee\ntotal_with_tax = (total ** tax) + total\nreturn(total_with_tax)",
      "execution_count": null,
      "outputs": []
    },
    {
      "metadata": {},
      "cell_type": "markdown",
      "source": "This code won't do anything now, but we know that, at some point, we will need to define variables called nf_toaster_pastry and lp_coffee. In the first line, we suggest that the cost of the non-fruit toaster pastry and the lowest-priced coffee can be added together to to create our total. In the second line, we suggest that multiplying the total by the tax and then adding the total to that number will produce the totat with tax. In the final line, we return the total_with_tax.\n\nNow, all we need is to perform the processes that will give us nf_toaster_pastry and lp_coffee.\n\nDefining lp_coffee is much easier. There are many approaches we can take, but some are certainly better than others."
    },
    {
      "metadata": {
        "trusted": true
      },
      "cell_type": "code",
      "source": "min(coffee, key = lambda entry: entry[1])",
      "execution_count": null,
      "outputs": []
    },
    {
      "metadata": {},
      "cell_type": "markdown",
      "source": "Using Python's **min** function allows us to find the lowest-priced coffee without resorting to an especially long loop. What may be confusing, however, is the \"key\" section of the code. What would happen if we just asked for min(coffee)?"
    },
    {
      "metadata": {
        "trusted": true
      },
      "cell_type": "code",
      "source": "min(coffee)",
      "execution_count": null,
      "outputs": []
    },
    {
      "metadata": {},
      "cell_type": "markdown",
      "source": "As you can see, \"large\" is returned as an answer. The reason for this is that we want the minimum of the value attached to each tuple (1.39, 1.59, and 1.79) rather than the value of the tuple in its entirety. Setting a key in the first section to say that we want min to be determined by entry[1], or the second part of each tuple, allows us to get an accurate idea of the min that we want.\n\nTo illustrate this more, please modify the code below so that we can determine which toaster pastry flavor is the more inexpensive and, using the min function's cousin **max**, which is the most calorically dense."
    },
    {
      "metadata": {
        "trusted": true
      },
      "cell_type": "code",
      "source": "test_flavors_and_cals = [(\"galactic grape\", 2.56, 433), (\"persuasive plum\", 3.45, 412), (\"mindful apple\", 3.98, 398), (\"sullen cranberry\", 1.23, 432), (\"artful linzer tart\", 5.99, 349)]\nleast_expensive = min()\nmost_cal = max()\nprint(least_expensive)\nprint(most_cal)",
      "execution_count": null,
      "outputs": []
    },
    {
      "metadata": {},
      "cell_type": "markdown",
      "source": "[ANSWER BELOW, DON'T SCROLL UNLESS YOU'VE TRIED THIS]"
    },
    {
      "metadata": {
        "trusted": true
      },
      "cell_type": "code",
      "source": "test_flavors_and_cals = [(\"galactic grape\", 2.56, 433), (\"persuasive plum\", 3.45, 412), (\"mindful apple\", 3.98, 398), (\"sullen cranberry\", 1.23, 432), (\"artful linzer tart\", 5.99, 349)]\nleast_expensive = min(test_flavors_and_cals, key = lambda entry: entry[1])\nmost_cal = max(test_flavors_and_cals, key = lambda entry: entry[2])\nprint(least_expensive)\nprint(most_cal)",
      "execution_count": null,
      "outputs": []
    },
    {
      "metadata": {},
      "cell_type": "markdown",
      "source": "So, returning to our code so far, we can confidently define lp_coffee as being equal to the function above. As we might note, however, lp_coffee is a tuple. Attempting an arithmatic operation on a tuple will not go well (what is (\"small\", 139) + nf_toaster_pastry?). We'll want to revise our code slightly to avoid future errors."
    },
    {
      "metadata": {
        "trusted": true
      },
      "cell_type": "code",
      "source": "lp_coffee = min(coffee, key = lambda entry: entry[1])\n#by adding a [1] below, we clarify that we ony want to perform an arithmatic operation on the second slice. \ntotal = nf_toster_pastry + lp_coffee[1]\ntotal_with_tax = (total ** tax) + total\nreturn(total_with_tax)",
      "execution_count": null,
      "outputs": []
    },
    {
      "metadata": {},
      "cell_type": "markdown",
      "source": "Okay, we have only one task left: distinguishing fruit-flavored varietes from non-fruit-flavored ones. While specific forms of entity-recognition or word-embeddings may help in this task, Python does not have a function built to categorize food. We may be stuck with making lists.\n\nIntuitively, it is easier to list items we consider to be fruits instead of listing all of the items that are not fruits. We can also make the assumption that toaster pastry fruit flavors will generally cater more towards fruits that are commonly eaten in their specific markets; accounting for \"durians\" may not be necessary. While string-matching isn't the most expensive process out there, using a list of 340 fruits to detect toaster pastry flavors is excessive.\n\nTaking about four minutes for each list, trying making: 1.) a list of fruits from memory 2.) a list of fruits from Wikipedia or a grocery website."
    },
    {
      "metadata": {
        "trusted": true
      },
      "cell_type": "code",
      "source": "list1 = []\nlist2 = []\nlist3 = [\"Apples\", \"Apricots\", \"Banana\", \"Blueberry\", \"Cantaloupe\", \"Cherry\", \"Date\", \"Palm\", \"Australian Native Citrus\", \"Avocado\",\n         \"Carissa\", \"Carob\", \"Cattleya Guava\", \"Ceriman\", \"Cherry of the Rio Grande\", \"Citron\", \"Clementines\", \"Cordia\", \"Crabapple\", \n         \"Green Grapes\", \"Grapefruit\", \"Honeydew Melon\", \"Lemons\", \"Limes\", \"Oranges\", \"Mandarin\", \"Mangos\", \"Papayas\", \"Peaches\", \n         \"Pears\", \"Pineapple\", \"Plantains\", \"Plums\", \"Pomelo\", \"Red Grapes\", \"Strawberry\", \"Tangarines\", \"Watermelon\"]",
      "execution_count": null,
      "outputs": []
    },
    {
      "metadata": {},
      "cell_type": "markdown",
      "source": "Judging by list3 alone, there are a few processing steps we'll need to take when trying to match these strings to those in the toaster_pastry list. First, all of these entries begin with capital letters. Second, many are pluralized, which goes against flavor naming conventions (\"Apples\" is not in \"atomic apple\").\n\nPython's **lower** function will let us take on this first issue. **Lower** returns a version of the input string that features only lowercase letters. A function called **upper** does the opposite."
    },
    {
      "metadata": {
        "trusted": true
      },
      "cell_type": "code",
      "source": "test_string = \"Look at those apples\"\nterm = \"Apples\"\n\nterm in test_string",
      "execution_count": null,
      "outputs": []
    },
    {
      "metadata": {
        "trusted": true
      },
      "cell_type": "code",
      "source": "term.lower() in test_string",
      "execution_count": null,
      "outputs": []
    },
    {
      "metadata": {},
      "cell_type": "markdown",
      "source": "Next, we want to remove the \"s\" from many of the entries in list3. While this will work for most cases, \"Peaches\" and \"Citrus\" each present unique problems. Saying we want to get rid of all terms that end with \"es\" would give us \"Peach\", but it would also give us \"Appl\", \"Clementin\", \"Grap\", \"Lim\", \"Orang\", \"Red Grap\", and \"Tangarin.\" While these words may seem good enough for string matching, a flavor call \"Applied Tiramisu\" or \"Limitless Fudge Cake\" would be misidentified as fruit flavors.\n\nWe have a few options to proceed, all of which have their drawbacks:\n1.) Hand-correct the data. This will give us accuracy, but will take the longest amount of time.\n2.) Implement an imperfect rule that will remove the \"s\" from every string that ends with s, even through we know that it will leave \"Australian Native Citru\" and \"Peache\"\n2a.) Implement this rule with the conditions that it ignore words that end in \"us\", giving us \"Peache\" as our only error.\n2b.) Implement this rule with the conditions that it ignore words that end in \"us\" and that if it encounters the word \"Peaches\", it should just return \"peach\"\n3.) Import a word tree or dictionary that will return that actual singular version of each pluralized term. We would, however, likely run into an error with \"Australian Native Citrus\"\n\nSince there isn't necessarily a right answer, we're going to see how some of these are implemented in code. You'll notice that **if**, **else**, and **elif** (else if) are used to set the various conditions mentioned above."
    },
    {
      "metadata": {
        "trusted": true
      },
      "cell_type": "code",
      "source": "#2#\nfor fruit in list3:\n    fruit = fruit.lower()\n    if fruit[-1] == \"s\":\n        print(fruit[:-1])\n    else:\n        print(fruit)\n",
      "execution_count": null,
      "outputs": []
    },
    {
      "metadata": {
        "trusted": true
      },
      "cell_type": "code",
      "source": "#2a#\nfor fruit in list3:\n    fruit = fruit.lower()\n    if fruit[-1] == \"s\":\n        if fruit[-2:] == \"us\":\n            print(fruit)\n        else:\n            print(fruit[:-1])\n    else:\n        print(fruit)",
      "execution_count": null,
      "outputs": []
    },
    {
      "metadata": {
        "trusted": true
      },
      "cell_type": "code",
      "source": "#2b#\nfor fruit in list3:\n    fruit = fruit.lower()\n    if fruit[-1] == \"s\":\n        if fruit[-2:] == \"us\":\n            print(fruit)\n        elif fruit == \"peaches\":\n            print(\"peach\")\n        else:\n            print(fruit[:-1])\n    else:\n        print(fruit)",
      "execution_count": null,
      "outputs": []
    },
    {
      "metadata": {},
      "cell_type": "markdown",
      "source": "For the time-being, let's say that option 2b is what we want to use. Generally, it's not the best practice to write code that will correct specific instances and nuances in your dataset. For one, it's computationally inefficent to, in a list of a million words let's say, check if each word is \"peaches\" before moving on to the next part of a loop. Second, it shows a level of involvement and familiarity with the dataset that makes the code seem less generalizable than it could be.\n\n## Defining Functions\n\nSince copying and repeatedly pasting our code would be tedious, we're going to define its operations as a **function** called fruit_singulizer. This will allow us to call the function at anytime and have the same operation performed."
    },
    {
      "metadata": {
        "trusted": true
      },
      "cell_type": "code",
      "source": "def fruit_singulizer(fruit):\n    fruit = fruit.lower()\n    if fruit[-1] == \"s\":\n        if fruit[-2:] == \"us\":\n            return(fruit)\n        elif fruit == \"peaches\":\n            return(\"peach\")\n        else:\n            return(fruit[:-1])\n    else:\n        return(fruit)",
      "execution_count": null,
      "outputs": []
    },
    {
      "metadata": {},
      "cell_type": "markdown",
      "source": "Starting a line with \"def\" tells Python that you're beginning to define a new function. Rather than give that function a specific variable to work with, you want to give it a generic input. That is, rather than having this function only work with list3, I'm having it take any string as an input. For conveinence's sake, I've used \"fruit\" as an input here. Let's see how this works in practice:"
    },
    {
      "metadata": {
        "trusted": true
      },
      "cell_type": "code",
      "source": "for fruit in list3:\n    fruit_singulizer(fruit)",
      "execution_count": null,
      "outputs": []
    },
    {
      "metadata": {},
      "cell_type": "markdown",
      "source": "As an excercise, try modifying the existing fruit_singulizer function to be compatible with your entires for list1 and list2.\n\nNow that we have standardized our lists, we can begin string matching in earnest. We can create a new function called is_Fruit that will take two strings as an input and return whether or not the item is a fruit."
    },
    {
      "metadata": {
        "trusted": true
      },
      "cell_type": "code",
      "source": "def is_fruit(fruit, flavors):\n    return(fruit in flavors)",
      "execution_count": null,
      "outputs": []
    },
    {
      "metadata": {},
      "cell_type": "markdown",
      "source": "With this last component, we can begin to start putting our code together to sort fruit and non-fruit toaster pastry flavors. In line 1, we use Python's **map** function to create a new list. Much like when we used lambda to sort coffee prices, we're using it here to create a new list that contained that first part of every tuple in toaster_patries.\n\nFor the list fruits, we use **list comprehenesion**, a condensed version of a for-loop that creates a new list. In this short command, we say that for every item in list3, we want returned the fruit_singulizer version of that item."
    },
    {
      "metadata": {
        "trusted": true
      },
      "cell_type": "code",
      "source": "flavors = list(map(lambda x: x[0], toaster_pastries))\nfruits = [fruit_singulizer(item) for item in list3]\n\nfor flavor in flavors:\n    if flavor in fruits:\n        pass\n    else:\n        print(flavor)",
      "execution_count": null,
      "outputs": []
    },
    {
      "metadata": {},
      "cell_type": "markdown",
      "source": "Now that we have several working components, it's time to return to the original prompt for this tutorial: what's the most economical combination of a non-fruit toaster pastry and coffee? Below, the code snippets of code we've used so far will be modified to answer this question."
    },
    {
      "metadata": {
        "trusted": true
      },
      "cell_type": "code",
      "source": "fruits = [fruit_singulizer(item) for item in list3]\n\nnf_toaster_pastries = []\nfor entry in toaster_pastries:\n    flavor = entry[0]\n    if flavor in fruits:\n        pass\n    else:\n        nf_toaster_pastries.append(entry)\nnf_toaster_pastry =  min(nf_toaster_pastries, key = lambda entry: entry[1])       \nlp_coffee = min(coffee, key = lambda entry: entry[1])\ntotal = nf_toaster_pastry[1] + lp_coffee[1]\ntotal_with_tax = (total ** tax) + total\nprint(\"You ordered a \" + nf_toaster_pastry[0] +\" toaster pastry with a \" + lp_coffee[0] + \" coffee for $\" +str(round(total_with_tax,2)))",
      "execution_count": null,
      "outputs": []
    },
    {
      "metadata": {},
      "cell_type": "markdown",
      "source": "Some modifications were made from the earlier code. Since having the price of the non-fruit toaster pastries was important, the mapping function was removed and flavor was defined by the first entry in toaster pastries.\n\nLike the lp_coffee variable, nf_toaster_pastry was determined by taking the entry with the smallest value from a list.\n\nAdditionally, an entire print statement was added. The **round** function was used to turn total_with_tax into a recognizable dollar amount with only two places."
    }
  ],
  "metadata": {
    "kernelspec": {
      "name": "python36",
      "display_name": "Python 3.6",
      "language": "python"
    },
    "language_info": {
      "mimetype": "text/x-python",
      "nbconvert_exporter": "python",
      "name": "python",
      "pygments_lexer": "ipython3",
      "version": "3.6.6",
      "file_extension": ".py",
      "codemirror_mode": {
        "version": 3,
        "name": "ipython"
      }
    }
  },
  "nbformat": 4,
  "nbformat_minor": 2
}