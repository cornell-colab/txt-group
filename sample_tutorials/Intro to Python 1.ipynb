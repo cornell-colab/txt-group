{
  "cells": [
    {
      "metadata": {},
      "cell_type": "markdown",
      "source": "# Intro to Python 1"
    },
    {
      "metadata": {
        "collapsed": true
      },
      "cell_type": "markdown",
      "source": "Python is a popular multipurpose programming language. Its wide variety of existing libraries and documentation make it a stellar choice for learning how to program. This series of Jupyter notebooks provides a brief introduction to Python's commands and capabilities."
    },
    {
      "metadata": {},
      "cell_type": "markdown",
      "source": "Programming involves writing and running a series of commands to complete a desired task. This usually involves breaking down a large task into several significantly smaller tasks. For instance, if my task was organizing toaster pastry flavors alphabetically, there would be a few things that I would need."
    },
    {
      "metadata": {
        "trusted": true
      },
      "cell_type": "markdown",
      "source": "## Variables and Commands\n\nFirst, I would need a **list** of toaster pastry flavors. A **list** is a way of organizing similar types of data. Below, I will create a list by using an =. In Python, a single set of = is used to define a variable. Below, I will create the variable \"tp_Flavors,\" which stands for \"toaster pastry flavors,\" and indicate that it is a list by using brackets after the equals sign.\n\nIf you click the box below and then click \"Run\" above, Python's interpreter will excecute the command."
    },
    {
      "metadata": {
        "trusted": true
      },
      "cell_type": "code",
      "source": "tp_Flavors = []\nprint(tp_Flavors)",
      "execution_count": 21,
      "outputs": [
        {
          "output_type": "stream",
          "text": "[]\n",
          "name": "stdout"
        }
      ]
    },
    {
      "metadata": {},
      "cell_type": "markdown",
      "source": "If you see a [ ], you have run the command correctly. Above, however, are two lines of code. As mentioned, the first defines a variable. The second line issues a **command**.\n\nThe **print** command above is asking Python to return the contents of the list tp_Flavors. Since the list is empty currently, it returns an empty list.\n\n## Data Types\n\nHow do we computationally represent toaster pastry flavors? If a friend asked you what flavor of toaster pastry you wanted for breakfast, which of the following answers would make the most sense:\n1.) True\n2.) 1.97\n3.) 5\n4.) \"strawberry\"\n\nThe context of your friend's question is important here. If their question was whether or not you liked toaster pastries, option 1 would be the best way to communicate. **Bools** or booleans are a datatype that returns whether a condition is TRUE or FALSE.\n\nIf your friend's question was how much a toaster pastry was before tax, option 2 would be the best way to communicate. Since your friend is asking for an exact measurement a **Float** or floating point number (more specifically a double-precision floating point number) provides digits accurate to the fifteenth to seventeenth decimal place.\n\nIf your friend's question was how many toaster pastries you think you could eat until you were ill, option 3 would be the best way to communicate. While it may be that 4.5768 toaster pastries exactly are what move the gastrointestinal needle from saiety to sickness, **Integers** provide representations of whole numbers that are important for determining how many intervals or loops you want a command to run.\n\nIn this instance, however, your friend has only asked you what your favorite flavor is. While one could, in theory, represent a flavor with a series of floating point numbers, in this context it would be most helpful to offer a **String** of characters. Strings are alphanumeric representations of characters. Or, to put it more simply, strings are the most common representation of text.\n\nBelow, I will illustrate each of these data types. If you run these commands, they will illustrate some of what is described above."
    },
    {
      "metadata": {
        "trusted": true
      },
      "cell_type": "code",
      "source": "#bool example:False#\nx = 2\n5 - x > 4\n",
      "execution_count": 4,
      "outputs": [
        {
          "output_type": "execute_result",
          "execution_count": 4,
          "data": {
            "text/plain": "False"
          },
          "metadata": {}
        }
      ]
    },
    {
      "metadata": {
        "trusted": true
      },
      "cell_type": "code",
      "source": "#bool example:True*\nx = 70000000\n\nx > 69999999",
      "execution_count": 5,
      "outputs": [
        {
          "output_type": "execute_result",
          "execution_count": 5,
          "data": {
            "text/plain": "True"
          },
          "metadata": {}
        }
      ]
    },
    {
      "metadata": {
        "trusted": true
      },
      "cell_type": "code",
      "source": "#float example#\ntp_price = 2.97\nmoney_in_purse = 58.72\n\nprint(money_in_purse - tp_price)\n\n",
      "execution_count": 6,
      "outputs": [
        {
          "output_type": "stream",
          "text": "55.75\n",
          "name": "stdout"
        }
      ]
    },
    {
      "metadata": {
        "trusted": true
      },
      "cell_type": "code",
      "source": "#integer example#\n\ntp_consumed_weekly = 14\ndays_in_week = 7\ncurrent_day_of_week = 4\nso_far = int(tp_consumed_weekly/days_in_week * current_day_of_week)\nprint(so_far)\n",
      "execution_count": 11,
      "outputs": [
        {
          "output_type": "stream",
          "text": "8\n",
          "name": "stdout"
        }
      ]
    },
    {
      "metadata": {
        "trusted": true
      },
      "cell_type": "code",
      "source": "#string example#\n\nfavorite_flavor = \"wild berry\"\nmany_flavors = [\"strawberry\", \"raspberry\", \"cinnamon sugar\", \"blueberry\", \"cherry\", \"oreo supreme\"]\n\n\nprint(\"This week I ate \" + favorite_flavor + \" toaster pastries.\")",
      "execution_count": 9,
      "outputs": [
        {
          "output_type": "stream",
          "text": "This week I ate wild berry toaster pastries.\n",
          "name": "stdout"
        }
      ]
    },
    {
      "metadata": {},
      "cell_type": "markdown",
      "source": "As you can see, different data types have different contexts and uses. At some point, it will make sense to use most of these types. For the remainder of this tutorial,however, we will focus on **strings** and **integers**.\n\n## Lists\n\nReturning to lists, we might notice that many_flavors is a much more helpful resource right now than tp_Flavors given that it contains several flavor names. Python will allow you to rename and replace variables. \n\nLet's try this here by updating the values of tp_Flavors with those of many_flavors."
    },
    {
      "metadata": {
        "trusted": true
      },
      "cell_type": "code",
      "source": "tp_Flavors = many_flavors\n\nprint(tp_Flavors)",
      "execution_count": 10,
      "outputs": [
        {
          "output_type": "stream",
          "text": "['strawberry', 'raspberry', 'cinnamon sugar', 'blueberry', 'cherry', 'oreo supreme']\n",
          "name": "stdout"
        }
      ]
    },
    {
      "metadata": {},
      "cell_type": "markdown",
      "source": "\"Wild berry,\" we'll notice, is not on this list. If we want to add it it tp_Flavors, we can use the **append** command in Python. We could also put the text in manually."
    },
    {
      "metadata": {
        "trusted": true
      },
      "cell_type": "code",
      "source": "tp_Flavors.append(favorite_flavor)\n\nprint(tp_Flavors)",
      "execution_count": 6,
      "outputs": [
        {
          "output_type": "stream",
          "text": "['strawberry', 'raspberry', 'cinnamon sugar', 'blueberry', 'cherry', 'oreo supreme', 'wild berry']\n",
          "name": "stdout"
        }
      ]
    },
    {
      "metadata": {
        "trusted": true
      },
      "cell_type": "code",
      "source": "tp_Flavors.append(\"wild berry\")\n\nprint(tp_Flavors)",
      "execution_count": 7,
      "outputs": [
        {
          "output_type": "stream",
          "text": "['strawberry', 'raspberry', 'cinnamon sugar', 'blueberry', 'cherry', 'oreo supreme', 'wild berry', 'wild berry']\n",
          "name": "stdout"
        }
      ]
    },
    {
      "metadata": {},
      "cell_type": "markdown",
      "source": "As you'll see, we now have the string \"wild berry\" twice on the list. While some may argue that wild berry's refusal to be pigeonholed by a clear proporition of well-known berries makes it many flavors and therefore worthy of duplicate entries, this is still an error in our list. Using the **remove** command in Python, we can remove the second \"wild berry\" from the list."
    },
    {
      "metadata": {
        "trusted": true
      },
      "cell_type": "code",
      "source": "tp_Flavors.remove(\"wild berry\")\n\nprint(tp_Flavors)",
      "execution_count": 11,
      "outputs": [
        {
          "output_type": "stream",
          "text": "['strawberry', 'raspberry', 'cinnamon sugar', 'blueberry', 'cherry', 'oreo supreme', 'wild berry']\n",
          "name": "stdout"
        }
      ]
    },
    {
      "metadata": {},
      "cell_type": "markdown",
      "source": "## Lists and Strings\n\nLists are helpful because they not only contain strings, but because they allow us to turn strings into quantifiable material. For instance, let's say a \"friend\" makes a careless claim about wild berry toaster pastries being a redundant flavor given all of the other berry flavors a manufacturor offers. If we wanted to say that berry flavors represented only a healthy proportion of the purveyor's portfolio, how could we use code to create evidence?\n\nFirst, we should note our friend's claim: \"berry\" is ubiquitous. We'll define the variable claim with the string \"berry\"."
    },
    {
      "metadata": {
        "trusted": true
      },
      "cell_type": "code",
      "source": "claim = \"berry\"",
      "execution_count": 18,
      "outputs": []
    },
    {
      "metadata": {},
      "cell_type": "markdown",
      "source": "Next, we want to know how long our list of flavors is. The command **len** allows us to see how long our a list or string is."
    },
    {
      "metadata": {
        "trusted": true
      },
      "cell_type": "code",
      "source": "len(tp_Flavors)",
      "execution_count": 14,
      "outputs": [
        {
          "output_type": "execute_result",
          "execution_count": 14,
          "data": {
            "text/plain": "7"
          },
          "metadata": {}
        }
      ]
    },
    {
      "metadata": {},
      "cell_type": "markdown",
      "source": "While the length of the list is important, it will be important for us to be able to attach an identity and place to each item in the list. Using the **range** command allows us to see the number of valid entries in the list. When combined with the **len** command, we can see how many values are in tp_Flavors. "
    },
    {
      "metadata": {
        "trusted": true
      },
      "cell_type": "code",
      "source": "range(len(tp_Flavors))",
      "execution_count": 16,
      "outputs": [
        {
          "output_type": "execute_result",
          "execution_count": 16,
          "data": {
            "text/plain": "range(0, 7)"
          },
          "metadata": {}
        }
      ]
    },
    {
      "metadata": {},
      "cell_type": "markdown",
      "source": "Knowing the range of tp_Flavors allows us to begin **indexing** and **slicing** items from the list. Indexing and slicing allow us to refer to strings by their positions within lists rather than their names.\n\nFor instance, imagine that \"strawberry,\" \"blueberry,\" and \"cherry\" toaster pastries were beside each other on a shelf. While you could say you wanted a specific flavor by its name, you might also say \"I want the flavor on the left\" or \"the middle one.\" If you're using a vending machine, the flavors may be identifiable by codes like A4, A5, and A6.\n\nSimilarly, if we have a list called three_Flavors = [\"strawberry,\" \"blueberry,\" and \"cherry\"], we could **index** \"strawberry\" as three_Flavors[0] or take a **slice** of the list containing \"blueberry,\"\"cherry\" as three_Flavors[1:3], three_Flavors[1:], or three_Flavors[-2:]. Here, the brackets allow us to define the parameters of the sample we want from the list. "
    },
    {
      "metadata": {
        "trusted": true
      },
      "cell_type": "code",
      "source": "three_Flavors = [\"strawberry\", \"blueberry\", \"cherry\"]\n\nthree_Flavors[0]",
      "execution_count": 1,
      "outputs": [
        {
          "output_type": "execute_result",
          "execution_count": 1,
          "data": {
            "text/plain": "'strawberry'"
          },
          "metadata": {}
        }
      ]
    },
    {
      "metadata": {
        "trusted": true
      },
      "cell_type": "code",
      "source": "three_Flavors[1:3]",
      "execution_count": 3,
      "outputs": [
        {
          "output_type": "execute_result",
          "execution_count": 3,
          "data": {
            "text/plain": "['blueberry', 'cherry']"
          },
          "metadata": {}
        }
      ]
    },
    {
      "metadata": {
        "trusted": true
      },
      "cell_type": "code",
      "source": "three_Flavors[1:] == three_Flavors[1:3] ",
      "execution_count": 4,
      "outputs": [
        {
          "output_type": "execute_result",
          "execution_count": 4,
          "data": {
            "text/plain": "True"
          },
          "metadata": {}
        }
      ]
    },
    {
      "metadata": {
        "trusted": true
      },
      "cell_type": "code",
      "source": "three_Flavors[-2:]",
      "execution_count": 6,
      "outputs": [
        {
          "output_type": "execute_result",
          "execution_count": 6,
          "data": {
            "text/plain": "['blueberry', 'cherry']"
          },
          "metadata": {}
        }
      ]
    },
    {
      "metadata": {
        "trusted": true
      },
      "cell_type": "code",
      "source": "three_Flavors[-2:] == three_Flavors[1:]",
      "execution_count": 7,
      "outputs": [
        {
          "output_type": "execute_result",
          "execution_count": 7,
          "data": {
            "text/plain": "True"
          },
          "metadata": {}
        }
      ]
    },
    {
      "metadata": {},
      "cell_type": "markdown",
      "source": "While we're at it, we'll want to define a few new variables to help us make our case. We want to know the total number of flavors available and the total number of flavors that can be classified as containing berries (or, more acurately, berry flavoring)."
    },
    {
      "metadata": {
        "trusted": true
      },
      "cell_type": "code",
      "source": "total_Flavors = len(tp_Flavors)\nberry_Count = 0",
      "execution_count": 24,
      "outputs": []
    },
    {
      "metadata": {},
      "cell_type": "markdown",
      "source": "## Loops and If Statements\n\nWith all of these elements in place, we're ready to create a small **for loop** that will iterate over each string in the tp_Flavors list and add a 1 to the berry_count. We will combine our **for loop** with an **if statement**.\n\nBelow is a sample for loop that run for each position in tp_Flavors and print out the string that's attached to that position."
    },
    {
      "metadata": {
        "trusted": true
      },
      "cell_type": "code",
      "source": "#sample for loop#\nfor flavor_number in range(len(tp_Flavors)):\n    print(flavor_number)\n    print(\"tp_Flavors[\" + str(flavor_number) + \"]==\")\n    print(tp_Flavors[flavor_number])\n    print(\"\")",
      "execution_count": 16,
      "outputs": [
        {
          "output_type": "stream",
          "text": "0\ntp_Flavors[0]==\nstrawberry\n\n1\ntp_Flavors[1]==\nraspberry\n\n2\ntp_Flavors[2]==\ncinnamon sugar\n\n3\ntp_Flavors[3]==\nblueberry\n\n4\ntp_Flavors[4]==\ncherry\n\n5\ntp_Flavors[5]==\noreo supreme\n\n",
          "name": "stdout"
        }
      ]
    },
    {
      "metadata": {
        "trusted": true
      },
      "cell_type": "code",
      "source": "#real for loop#\n\n#from before#\nclaim = \"berry\"\ncount = 0\n\n#loop#\n\n#start loop#\nfor flavor_number in range(len(tp_Flavors)):\n    if claim in tp_Flavors[flavor_number]:\n        print(tp_Flavors[flavor_number] + \" is a berry flavor!\")\n        count += 1\n#end loop#    \n    \nprint(count)\n        ",
      "execution_count": 23,
      "outputs": [
        {
          "output_type": "stream",
          "text": "strawberry is a berry flavor!\nraspberry is a berry flavor!\nblueberry is a berry flavor!\n3\n",
          "name": "stdout"
        }
      ]
    },
    {
      "metadata": {},
      "cell_type": "markdown",
      "source": "As you can see above, for loops require indenting subsequent lines with tabs and punctuating commands with colons. Everytime you finish a line of code with a a colon, it is important to indent the next line.\n\nDefining variables, modifying lists, performing arithmatic operations, and using functions typically do not involve adding any indentations."
    }
  ],
  "metadata": {
    "kernelspec": {
      "name": "python36",
      "display_name": "Python 3.6",
      "language": "python"
    },
    "language_info": {
      "mimetype": "text/x-python",
      "nbconvert_exporter": "python",
      "name": "python",
      "pygments_lexer": "ipython3",
      "version": "3.6.6",
      "file_extension": ".py",
      "codemirror_mode": {
        "version": 3,
        "name": "ipython"
      }
    }
  },
  "nbformat": 4,
  "nbformat_minor": 2
}