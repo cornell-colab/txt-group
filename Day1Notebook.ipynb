{
 "cells": [
  {
   "cell_type": "markdown",
   "metadata": {},
   "source": [
    "# Day 1: Welcome to TXT Group with Python"
   ]
  },
  {
   "cell_type": "markdown",
   "metadata": {},
   "source": [
    "Our goals for this lesson are as follows:\n",
    "* Introduce the a few key variable types in Python: strings, integers, and lists\n",
    "* Show how to manipulate strings through concatination (\"adding\" strings), calculating length with len(), and the .format() method\n",
    "* Introduce conditional logic: if/elif/else\n",
    "* Use if statements to search for substrings"
   ]
  },
  {
   "cell_type": "markdown",
   "metadata": {},
   "source": [
    "Today we will be introducing Python as a multipurpose tool for working with text. Python is a great language for jumping right into manipulating data, and using some of the creative techniques of programmatic thinking along the way.\n",
    "\n",
    "Our goal today is to show how you can use a programming language to construct and deconstruct (or **parse**) search queries.\n",
    "\n",
    "**Querying** is a method of requesting particular data from a larger collection or database, according to a set of conditions or **parameters** that are meaningful to us. Search queries are the underlying technique behind search bars of all kinds, from [library catalog searches](http://newcatalog.library.cornell.edu/) to Google's [new dataset search tool](https://toolbox.google.com/datasetsearch). Queries also have a special use case in fetching data from a public API, which you can learn more about in this [workshop guide](https://github.com/cornell-colab/fetching-data-from-apis).\n",
    "\n"
   ]
  },
  {
   "cell_type": "markdown",
   "metadata": {},
   "source": [
    "## Getting started with Jupyter Notebooks"
   ]
  },
  {
   "cell_type": "markdown",
   "metadata": {},
   "source": [
    "Today we will be using a Jupyter Notebook. \n",
    "\n",
    "* Create an account on [Azure](https://notebooks.azure.com/)\n",
    "* Download this notebook as a [.ipynb file](https://raw.githubusercontent.com/cornell-colab/txt-group/master/Day1Notebook.ipynb)\n",
    "* Upload the notebook to Azure (be sure to seleced Python 3 when prompted)"
   ]
  },
  {
   "cell_type": "markdown",
   "metadata": {},
   "source": [
    "## Why querying?"
   ]
  },
  {
   "cell_type": "markdown",
   "metadata": {},
   "source": [
    "Whether you are a student, researcher, librarian, or developer, you are already in the habit of seeking out data to answer questions that matter to you. This might look like: finding a specific e-mail in your inbox, typing search terms into a search engine, looking up historical materials in an archive, entering an address into a mapping app, searching for key words within a journal article, and so on.\n",
    "\n",
    "Note that in each of these examples, we could type our search terms or our query into a search box, which is often visually represented on a web page, toolbar, or phone app interface.\n",
    "\n",
    "Each of these queries usually results in one of the following: a specific point of data (such as the latitude and longitude of a restaurant), a sub-section of a longer document (like sentences in a journal article that match your search term), or a set of documents within a much larger collection (like a list of 900,000 search results from the hundreds of trillions of web pages indexed by Google.) We might imagine that, behind the scenes, there is some process that goes into filtering and selecting a giant collection of data, perhaps structure into a database or many databases, and returning just the unique data that matches our search query conditions.\n"
   ]
  },
  {
   "cell_type": "markdown",
   "metadata": {},
   "source": [
    "Search engines provide a visual iunterface for searching: the search box. But there are other times we may want to compose or alter queries directly. One important use case is a **Public API endpoint**."
   ]
  },
  {
   "cell_type": "markdown",
   "metadata": {},
   "source": [
    "## Example: Chronicling America"
   ]
  },
  {
   "cell_type": "markdown",
   "metadata": {},
   "source": [
    "[Chronicling America: Historic American Newspapers](https://chroniclingamerica.loc.gov/)\n",
    "\n",
    "[API Documentation](https://chroniclingamerica.loc.gov/about/api/)\n",
    "\n",
    "https://chroniclingamerica.loc.gov/search/titles/results/?terms=ithaca\n",
    "\n",
    "https://chroniclingamerica.loc.gov/about/api/\n",
    "\n"
   ]
  },
  {
   "cell_type": "markdown",
   "metadata": {},
   "source": [
    "## Manipulating strings with Python"
   ]
  },
  {
   "cell_type": "markdown",
   "metadata": {},
   "source": [
    "Python is an excellent multipurpose tool for working with texts, and gives us a new set of algorithmic/programmatic methods to work with. Today we are going to focus on **varaible types** (in particular **strings**), a few **string-related functions**, and **conditional statements**. "
   ]
  },
  {
   "cell_type": "markdown",
   "metadata": {},
   "source": [
    "But first! What's a variable?\n",
    "\n",
    "A **variable** is an object in Python that stores a value we may wish to use later. We use the equals (=) sign to assign a variable a value.\n",
    "\n",
    "Here are some examples of variables. Click into the box below and press the **run cells** key (either Shift+Enter or the little play button in the notebook header) to assign the variables their values."
   ]
  },
  {
   "cell_type": "code",
   "execution_count": null,
   "metadata": {},
   "outputs": [],
   "source": [
    "how_many_articles = 5\n",
    "name_of_headline = 'Players and Fans See Sexism in Serena Williams’s Treatment at U.S. Open'\n",
    "on_front_page = True\n",
    "\n"
   ]
  },
  {
   "cell_type": "markdown",
   "metadata": {},
   "source": [
    "What happened? In each line of code, Python (1) created a new variable, (2) gave the variable a name (\"how_many_cats\"), (3) based on our assigned value, inferred the variable typed (in this case, an **integer**) and (4) assigned this specific integer (5) to the variable.\n",
    "\n",
    "We saw three different types of variables in this example:\n",
    "* 5 is an **integer**. Integers store whole numbers.\n",
    "* 'The Sweet One' is a **string**. Strings store a collection of alphanumeric characters. (Technically, they store these characters in an ordered **list**, which we will get to soon).\n",
    "* False is a **boolean**. Booleans can be either True or False -- their simplicity allows us to do some neat things, especially with conditional statements.\n",
    "\n"
   ]
  },
  {
   "cell_type": "markdown",
   "metadata": {},
   "source": [
    "We can test to see that things behaved as we expected by using the **print() function**. A function is a special, modular piece of code that produces some kind of output, often based on whatever information we put inside of the parentheses. (This information is called a **parameter** or **parameters**.)"
   ]
  },
  {
   "cell_type": "code",
   "execution_count": null,
   "metadata": {},
   "outputs": [],
   "source": [
    "print(how_many_articles)"
   ]
  },
  {
   "cell_type": "code",
   "execution_count": null,
   "metadata": {},
   "outputs": [],
   "source": [
    "print(name_of_headline)"
   ]
  },
  {
   "cell_type": "code",
   "execution_count": null,
   "metadata": {},
   "outputs": [],
   "source": [
    "print(on_front_page)"
   ]
  },
  {
   "cell_type": "markdown",
   "metadata": {},
   "source": [
    "We can also reassign variables. Variables can hold whatever value we'd like, though generally they insist we keep to the same variable type."
   ]
  },
  {
   "cell_type": "code",
   "execution_count": null,
   "metadata": {},
   "outputs": [],
   "source": [
    "name_of_article = \"This Dublin Block Tells the Story of the City\"\n",
    "on_front_page = False"
   ]
  },
  {
   "cell_type": "code",
   "execution_count": null,
   "metadata": {},
   "outputs": [],
   "source": [
    "print(name_of_article)"
   ]
  },
  {
   "cell_type": "code",
   "execution_count": null,
   "metadata": {},
   "outputs": [],
   "source": [
    "print(on_front_page)"
   ]
  },
  {
   "cell_type": "markdown",
   "metadata": {},
   "source": [
    "Okay, so far so good! Let's try that name assignment again."
   ]
  },
  {
   "cell_type": "code",
   "execution_count": null,
   "metadata": {},
   "outputs": [],
   "source": [
    "name_of_article = Viral Videos Are Replacing Pricey Political Ads, and They Work"
   ]
  },
  {
   "cell_type": "markdown",
   "metadata": {},
   "source": [
    "What happened here? We encountered our first error. As intimidating as errors might look, they are valuable sources of information for us when writing code. Here, we see there is something called **invlid syntax**. Any clue of what could be going on here?"
   ]
  },
  {
   "cell_type": "markdown",
   "metadata": {},
   "source": [
    "It turns out that strings have an important condition: they must be surrounded by quotation marks (single, double, or triple all work, as long as we're consistent). If we don't have quotation marks, Python tries to find a variable with that (long) name: Viral Videos Are Replacing Pricey Political Ads, and They Work. Not only does this variable not exist, but its spaces violate one of the naming syntax rules in Python: variable names can't have spaces in them\n",
    "Let's fix our work:"
   ]
  },
  {
   "cell_type": "code",
   "execution_count": null,
   "metadata": {},
   "outputs": [],
   "source": [
    "name_of_article = \"Viral Videos Are Replacing Pricey Political Ads, and They Work\""
   ]
  },
  {
   "cell_type": "code",
   "execution_count": null,
   "metadata": {},
   "outputs": [],
   "source": [
    "print(name_of_article)"
   ]
  },
  {
   "cell_type": "markdown",
   "metadata": {},
   "source": [
    "Today we're going to focus on strings like the one our name_of_cat variable is currently storing. We'll get into some of the unique properties of strings in Python. One of which is **concatenation**. \n",
    "\n",
    "What this means is that two strings can be \"added\" together, or combined back to back to form a new, longer string. And we can do this with variables holding strings, too."
   ]
  },
  {
   "cell_type": "code",
   "execution_count": null,
   "metadata": {},
   "outputs": [],
   "source": [
    "# To run this code, click into this box and then click the Run button at the top of the screen\n",
    "\n",
    "researchQ = \"???\"\n",
    "print(\"A key question I'm curous about is: \" + researchQ)\n",
    "\n",
    "# Now try assigning a different value to researchQ. Run the code again to see a different answer"
   ]
  },
  {
   "cell_type": "markdown",
   "metadata": {},
   "source": [
    "## Composing queries from (sub)strings and variables"
   ]
  },
  {
   "cell_type": "markdown",
   "metadata": {},
   "source": [
    "Let's return to our querying example above:\n",
    "\n",
    "https://chroniclingamerica.loc.gov/search/titles/results/?terms=ithaca"
   ]
  },
  {
   "cell_type": "markdown",
   "metadata": {},
   "source": [
    "Another way to represent this would be as a string stored in a variable:"
   ]
  },
  {
   "cell_type": "code",
   "execution_count": null,
   "metadata": {},
   "outputs": [],
   "source": [
    "newspaper_query = \"https://chroniclingamerica.loc.gov/search/titles/results/?terms=ithaca\"\n",
    "print(newspaper_query)"
   ]
  },
  {
   "cell_type": "markdown",
   "metadata": {},
   "source": [
    "Let's say, instead of doing this all in one go, we want to actually compose a query from two separate variables: **base** and **parameters**:"
   ]
  },
  {
   "cell_type": "code",
   "execution_count": null,
   "metadata": {},
   "outputs": [],
   "source": [
    "base = \"https://chroniclingamerica.loc.gov/search/titles/results/?\"\n",
    "parameters = \"terms=ann+arbor\""
   ]
  },
  {
   "cell_type": "markdown",
   "metadata": {},
   "source": [
    "Below, write an expression that will concatenate these two variables and store the result in a variable called **newspaper_title_query**"
   ]
  },
  {
   "cell_type": "code",
   "execution_count": null,
   "metadata": {},
   "outputs": [],
   "source": [
    "## Write your expression here"
   ]
  },
  {
   "cell_type": "markdown",
   "metadata": {},
   "source": [
    "Run the code below to make sure your expression worked:"
   ]
  },
  {
   "cell_type": "code",
   "execution_count": null,
   "metadata": {},
   "outputs": [],
   "source": [
    "print(newspaper_title_query)"
   ]
  },
  {
   "cell_type": "markdown",
   "metadata": {},
   "source": [
    "Great! Now try reassigning the parameters variable to something else in the space below, and then rerun the two cells above. (Feel free to play around with this a bit and paste it into your browser's address bar). "
   ]
  },
  {
   "cell_type": "code",
   "execution_count": null,
   "metadata": {},
   "outputs": [],
   "source": [
    "# Write your code here"
   ]
  },
  {
   "cell_type": "markdown",
   "metadata": {},
   "source": [
    "## Inspecting a complex query with conditional statements"
   ]
  },
  {
   "cell_type": "code",
   "execution_count": null,
   "metadata": {},
   "outputs": [],
   "source": [
    "## To write: look at a long, complex query"
   ]
  },
  {
   "cell_type": "code",
   "execution_count": null,
   "metadata": {},
   "outputs": [],
   "source": []
  }
 ],
 "metadata": {
  "kernelspec": {
   "display_name": "Python 3",
   "language": "python",
   "name": "python3"
  },
  "language_info": {
   "codemirror_mode": {
    "name": "ipython",
    "version": 3
   },
   "file_extension": ".py",
   "mimetype": "text/x-python",
   "name": "python",
   "nbconvert_exporter": "python",
   "pygments_lexer": "ipython3",
   "version": "3.6.5"
  }
 },
 "nbformat": 4,
 "nbformat_minor": 2
}
