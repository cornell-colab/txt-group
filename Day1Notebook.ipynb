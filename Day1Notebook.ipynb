{
 "cells": [
  {
   "cell_type": "markdown",
   "metadata": {},
   "source": [
    "# Day 1: Welcome to TXT Group with Python"
   ]
  },
  {
   "cell_type": "markdown",
   "metadata": {},
   "source": [
    "Today we will be introducing Python as a multipurpose tool for working with text. Python is a great language for jumping right into manipulating data, and using some of the creative techniques of programmatic thinking along the way.\n",
    "\n",
    "Our goal today is to show how you can use a programming language to construct and deconstruct (or **parse**) search queries.\n",
    "\n",
    "**Queying** is a method of requesting particular data from a larger collection or database, according to a set of conditions or **parameters** that are meaningful to us. Search queries are the underlying technique behind search bars of all kinds, from [library catalog searches](http://newcatalog.library.cornell.edu/) to Google's [new dataset search tool](https://toolbox.google.com/datasetsearch). Queries also have a special use case in fetching data from a public API, which you can learn more about in this [workshop guide](https://github.com/cornell-colab/fetching-data-from-apis).\n",
    "\n"
   ]
  },
  {
   "cell_type": "markdown",
   "metadata": {},
   "source": [
    "Our goals for this lesson are as follows:\n",
    "* Introduce the a few key variable types in Python: strings, integers, and lists\n",
    "* Show how to manipulate strings through concatination (\"adding\" strings), calculating length, etc.\n",
    "* Introduce conditional logic: if/elif/else\n",
    "* Use if statements to search for substrings"
   ]
  },
  {
   "cell_type": "markdown",
   "metadata": {},
   "source": [
    "## Getting started with Jupyter Notebooks"
   ]
  },
  {
   "cell_type": "markdown",
   "metadata": {},
   "source": [
    "Today we will be using a Jupyter Notebook. "
   ]
  },
  {
   "cell_type": "markdown",
   "metadata": {},
   "source": [
    "## Let's dive into Python!"
   ]
  },
  {
   "cell_type": "markdown",
   "metadata": {},
   "source": [
    "But first! Let's dive into Python. How does it work? What \n",
    "\n",
    "Click into the code box below for an example of printing in Python 3:"
   ]
  },
  {
   "cell_type": "code",
   "execution_count": 1,
   "metadata": {},
   "outputs": [
    {
     "name": "stdout",
     "output_type": "stream",
     "text": [
      "A key question in my current research project is: ???\n"
     ]
    }
   ],
   "source": [
    "# To run this code, click into this box and then click the Run button at the top of the screen\n",
    "\n",
    "researchQ = \"???\"\n",
    "print(\"A key question in my current research project is: \" + researchQ)\n",
    "\n",
    "# Now try assigning a different value to researchQ. Run the code again to see a different answer"
   ]
  }
 ],
 "metadata": {
  "kernelspec": {
   "display_name": "Python 3",
   "language": "python",
   "name": "python3"
  },
  "language_info": {
   "codemirror_mode": {
    "name": "ipython",
    "version": 3
   },
   "file_extension": ".py",
   "mimetype": "text/x-python",
   "name": "python",
   "nbconvert_exporter": "python",
   "pygments_lexer": "ipython3",
   "version": "3.6.5"
  }
 },
 "nbformat": 4,
 "nbformat_minor": 2
}
